{
 "cells": [
  {
   "cell_type": "code",
   "execution_count": 1,
   "metadata": {},
   "outputs": [],
   "source": [
    "import plotly"
   ]
  },
  {
   "cell_type": "code",
   "execution_count": 3,
   "metadata": {},
   "outputs": [
    {
     "data": {
      "text/html": [
       "<script>requirejs.config({paths: { 'plotly': ['https://cdn.plot.ly/plotly-latest.min']},});if(!window.Plotly) {{require(['plotly'],function(plotly) {window.Plotly=plotly;});}}</script>"
      ],
      "text/vnd.plotly.v1+html": [
       "<script>requirejs.config({paths: { 'plotly': ['https://cdn.plot.ly/plotly-latest.min']},});if(!window.Plotly) {{require(['plotly'],function(plotly) {window.Plotly=plotly;});}}</script>"
      ]
     },
     "metadata": {},
     "output_type": "display_data"
    }
   ],
   "source": [
    "import plotly.plotly as py\n",
    "import plotly.graph_objs as go \n",
    "import plotly.offline as offline \n",
    "\n",
    "offline.init_notebook_mode(connected=True)"
   ]
  },
  {
   "cell_type": "code",
   "execution_count": 4,
   "metadata": {},
   "outputs": [],
   "source": [
    "continents = ['Asia',\n",
    "              'Africa',\n",
    "              'Antarctica',\n",
    "              'North America',\n",
    "              'South America',\n",
    "              'Australia',\n",
    "              'Europe']"
   ]
  },
  {
   "cell_type": "code",
   "execution_count": 5,
   "metadata": {},
   "outputs": [],
   "source": [
    "populations = [4436, 1216, 40, 579, 740, 200, 688]"
   ]
  },
  {
   "cell_type": "code",
   "execution_count": 6,
   "metadata": {},
   "outputs": [],
   "source": [
    "trace = go.Pie(labels = continents,\n",
    "               values = populations\n",
    "              )"
   ]
  },
  {
   "cell_type": "code",
   "execution_count": 7,
   "metadata": {},
   "outputs": [
    {
     "data": {
      "application/vnd.plotly.v1+json": {
       "data": [
        {
         "labels": [
          "Asia",
          "Africa",
          "Antarctica",
          "North America",
          "South America",
          "Australia",
          "Europe"
         ],
         "type": "pie",
         "values": [
          4436,
          1216,
          40,
          579,
          740,
          200,
          688
         ]
        }
       ],
       "layout": {}
      },
      "text/html": [
       "<div id=\"c4a777d5-0eba-4a48-906f-3e6590a7af33\" style=\"height: 525px; width: 100%;\" class=\"plotly-graph-div\"></div><script type=\"text/javascript\">require([\"plotly\"], function(Plotly) { window.PLOTLYENV=window.PLOTLYENV || {};window.PLOTLYENV.BASE_URL=\"https://plot.ly\";Plotly.newPlot(\"c4a777d5-0eba-4a48-906f-3e6590a7af33\", [{\"values\": [4436, 1216, 40, 579, 740, 200, 688], \"type\": \"pie\", \"labels\": [\"Asia\", \"Africa\", \"Antarctica\", \"North America\", \"South America\", \"Australia\", \"Europe\"]}], {}, {\"linkText\": \"Export to plot.ly\", \"showLink\": true})});</script>"
      ],
      "text/vnd.plotly.v1+html": [
       "<div id=\"c4a777d5-0eba-4a48-906f-3e6590a7af33\" style=\"height: 525px; width: 100%;\" class=\"plotly-graph-div\"></div><script type=\"text/javascript\">require([\"plotly\"], function(Plotly) { window.PLOTLYENV=window.PLOTLYENV || {};window.PLOTLYENV.BASE_URL=\"https://plot.ly\";Plotly.newPlot(\"c4a777d5-0eba-4a48-906f-3e6590a7af33\", [{\"values\": [4436, 1216, 40, 579, 740, 200, 688], \"type\": \"pie\", \"labels\": [\"Asia\", \"Africa\", \"Antarctica\", \"North America\", \"South America\", \"Australia\", \"Europe\"]}], {}, {\"linkText\": \"Export to plot.ly\", \"showLink\": true})});</script>"
      ]
     },
     "metadata": {},
     "output_type": "display_data"
    }
   ],
   "source": [
    "data = [trace]\n",
    "\n",
    "offline.iplot(data)"
   ]
  },
  {
   "cell_type": "code",
   "execution_count": 8,
   "metadata": {},
   "outputs": [],
   "source": [
    "colors = ['violet', 'indigo', 'skyblue', 'green', 'yellow', 'orange', 'red']"
   ]
  },
  {
   "cell_type": "code",
   "execution_count": 11,
   "metadata": {},
   "outputs": [],
   "source": [
    "trace = go.Pie(labels = continents,\n",
    "               values = populations,\n",
    "              \n",
    "               hoverinfo = 'label+percent',\n",
    "              \n",
    "               #textInfo means we don't want the info of populations to be shown on hover rather as text value \n",
    "               textinfo = 'value',\n",
    "               textfont = dict(size=16),\n",
    "              \n",
    "               marker = dict(colors = colors,\n",
    "                             line = dict(color = 'dimgrey',\n",
    "                                         width = 2)\n",
    "                            ),\n",
    "               hole = 0.4  #donut shape ( 40% hole in pie )\n",
    "              )"
   ]
  },
  {
   "cell_type": "code",
   "execution_count": 14,
   "metadata": {},
   "outputs": [
    {
     "data": {
      "application/vnd.plotly.v1+json": {
       "data": [
        {
         "hole": 0.4,
         "hoverinfo": "label+percent",
         "labels": [
          "Asia",
          "Africa",
          "Antarctica",
          "North America",
          "South America",
          "Australia",
          "Europe"
         ],
         "marker": {
          "colors": [
           "violet",
           "indigo",
           "skyblue",
           "green",
           "yellow",
           "orange",
           "red"
          ],
          "line": {
           "color": "dimgrey",
           "width": 2
          }
         },
         "textfont": {
          "size": 16
         },
         "textinfo": "value",
         "type": "pie",
         "values": [
          4436,
          1216,
          40,
          579,
          740,
          200,
          688
         ]
        }
       ],
       "layout": {}
      },
      "text/html": [
       "<div id=\"5b17b1af-d22f-4058-81d4-20b8c8967fc0\" style=\"height: 525px; width: 100%;\" class=\"plotly-graph-div\"></div><script type=\"text/javascript\">require([\"plotly\"], function(Plotly) { window.PLOTLYENV=window.PLOTLYENV || {};window.PLOTLYENV.BASE_URL=\"https://plot.ly\";Plotly.newPlot(\"5b17b1af-d22f-4058-81d4-20b8c8967fc0\", [{\"hole\": 0.4, \"hoverinfo\": \"label+percent\", \"textinfo\": \"value\", \"textfont\": {\"size\": 16}, \"marker\": {\"colors\": [\"violet\", \"indigo\", \"skyblue\", \"green\", \"yellow\", \"orange\", \"red\"], \"line\": {\"color\": \"dimgrey\", \"width\": 2}}, \"values\": [4436, 1216, 40, 579, 740, 200, 688], \"type\": \"pie\", \"labels\": [\"Asia\", \"Africa\", \"Antarctica\", \"North America\", \"South America\", \"Australia\", \"Europe\"]}], {}, {\"linkText\": \"Export to plot.ly\", \"showLink\": true})});</script>"
      ],
      "text/vnd.plotly.v1+html": [
       "<div id=\"5b17b1af-d22f-4058-81d4-20b8c8967fc0\" style=\"height: 525px; width: 100%;\" class=\"plotly-graph-div\"></div><script type=\"text/javascript\">require([\"plotly\"], function(Plotly) { window.PLOTLYENV=window.PLOTLYENV || {};window.PLOTLYENV.BASE_URL=\"https://plot.ly\";Plotly.newPlot(\"5b17b1af-d22f-4058-81d4-20b8c8967fc0\", [{\"hole\": 0.4, \"hoverinfo\": \"label+percent\", \"textinfo\": \"value\", \"textfont\": {\"size\": 16}, \"marker\": {\"colors\": [\"violet\", \"indigo\", \"skyblue\", \"green\", \"yellow\", \"orange\", \"red\"], \"line\": {\"color\": \"dimgrey\", \"width\": 2}}, \"values\": [4436, 1216, 40, 579, 740, 200, 688], \"type\": \"pie\", \"labels\": [\"Asia\", \"Africa\", \"Antarctica\", \"North America\", \"South America\", \"Australia\", \"Europe\"]}], {}, {\"linkText\": \"Export to plot.ly\", \"showLink\": true})});</script>"
      ]
     },
     "metadata": {},
     "output_type": "display_data"
    }
   ],
   "source": [
    "data = [trace]\n",
    "offline.iplot(data)"
   ]
  },
  {
   "cell_type": "code",
   "execution_count": null,
   "metadata": {},
   "outputs": [],
   "source": []
  }
 ],
 "metadata": {
  "kernelspec": {
   "display_name": "Python 3",
   "language": "python",
   "name": "python3"
  },
  "language_info": {
   "codemirror_mode": {
    "name": "ipython",
    "version": 3
   },
   "file_extension": ".py",
   "mimetype": "text/x-python",
   "name": "python",
   "nbconvert_exporter": "python",
   "pygments_lexer": "ipython3",
   "version": "3.5.2"
  }
 },
 "nbformat": 4,
 "nbformat_minor": 2
}
