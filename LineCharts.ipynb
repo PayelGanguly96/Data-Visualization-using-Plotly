{
 "cells": [
  {
   "cell_type": "code",
   "execution_count": 6,
   "metadata": {},
   "outputs": [
    {
     "data": {
      "text/html": [
       "<script>requirejs.config({paths: { 'plotly': ['https://cdn.plot.ly/plotly-latest.min']},});if(!window.Plotly) {{require(['plotly'],function(plotly) {window.Plotly=plotly;});}}</script>"
      ],
      "text/vnd.plotly.v1+html": [
       "<script>requirejs.config({paths: { 'plotly': ['https://cdn.plot.ly/plotly-latest.min']},});if(!window.Plotly) {{require(['plotly'],function(plotly) {window.Plotly=plotly;});}}</script>"
      ]
     },
     "metadata": {},
     "output_type": "display_data"
    }
   ],
   "source": [
    "import plotly.graph_objs as go \n",
    "import numpy as np\n",
    "import plotly.offline as offline \n",
    "\n",
    "offline.init_notebook_mode(connected=True)\n"
   ]
  },
  {
   "cell_type": "code",
   "execution_count": 7,
   "metadata": {},
   "outputs": [],
   "source": [
    "import pandas as pd \n",
    "\n",
    "tourism_data = pd.read_csv('datasets/europe_tourism.csv')"
   ]
  },
  {
   "cell_type": "code",
   "execution_count": 8,
   "metadata": {},
   "outputs": [
    {
     "data": {
      "text/html": [
       "<div>\n",
       "<style scoped>\n",
       "    .dataframe tbody tr th:only-of-type {\n",
       "        vertical-align: middle;\n",
       "    }\n",
       "\n",
       "    .dataframe tbody tr th {\n",
       "        vertical-align: top;\n",
       "    }\n",
       "\n",
       "    .dataframe thead th {\n",
       "        text-align: right;\n",
       "    }\n",
       "</style>\n",
       "<table border=\"1\" class=\"dataframe\">\n",
       "  <thead>\n",
       "    <tr style=\"text-align: right;\">\n",
       "      <th></th>\n",
       "      <th>Year</th>\n",
       "      <th>Western</th>\n",
       "      <th>Eastern</th>\n",
       "      <th>Southern</th>\n",
       "    </tr>\n",
       "  </thead>\n",
       "  <tbody>\n",
       "    <tr>\n",
       "      <th>0</th>\n",
       "      <td>1990</td>\n",
       "      <td>108.6</td>\n",
       "      <td>33.9</td>\n",
       "      <td>90.3</td>\n",
       "    </tr>\n",
       "    <tr>\n",
       "      <th>1</th>\n",
       "      <td>1995</td>\n",
       "      <td>112.2</td>\n",
       "      <td>58.9</td>\n",
       "      <td>96.0</td>\n",
       "    </tr>\n",
       "    <tr>\n",
       "      <th>2</th>\n",
       "      <td>2000</td>\n",
       "      <td>139.7</td>\n",
       "      <td>69.6</td>\n",
       "      <td>132.6</td>\n",
       "    </tr>\n",
       "    <tr>\n",
       "      <th>3</th>\n",
       "      <td>2005</td>\n",
       "      <td>141.7</td>\n",
       "      <td>95.3</td>\n",
       "      <td>156.4</td>\n",
       "    </tr>\n",
       "    <tr>\n",
       "      <th>4</th>\n",
       "      <td>2010</td>\n",
       "      <td>154.4</td>\n",
       "      <td>98.5</td>\n",
       "      <td>173.3</td>\n",
       "    </tr>\n",
       "    <tr>\n",
       "      <th>5</th>\n",
       "      <td>2015</td>\n",
       "      <td>181.4</td>\n",
       "      <td>121.4</td>\n",
       "      <td>225.5</td>\n",
       "    </tr>\n",
       "  </tbody>\n",
       "</table>\n",
       "</div>"
      ],
      "text/plain": [
       "   Year  Western  Eastern  Southern\n",
       "0  1990    108.6     33.9      90.3\n",
       "1  1995    112.2     58.9      96.0\n",
       "2  2000    139.7     69.6     132.6\n",
       "3  2005    141.7     95.3     156.4\n",
       "4  2010    154.4     98.5     173.3\n",
       "5  2015    181.4    121.4     225.5"
      ]
     },
     "execution_count": 8,
     "metadata": {},
     "output_type": "execute_result"
    }
   ],
   "source": [
    "tourism_data"
   ]
  },
  {
   "cell_type": "markdown",
   "metadata": {},
   "source": [
    "The above table of Europe_tourism shows no. of visitors in Billions in different years "
   ]
  },
  {
   "cell_type": "code",
   "execution_count": 18,
   "metadata": {},
   "outputs": [],
   "source": [
    "#Scatter for scatterplots \n",
    "\n",
    "trace0 = go.Scatter(\n",
    "\n",
    "    x = tourism_data['Year'],\n",
    "    y = tourism_data['Western'],\n",
    "    name = 'Western Europe',\n",
    "    line = dict(color='pink', width=4)\n",
    ")"
   ]
  },
  {
   "cell_type": "code",
   "execution_count": 19,
   "metadata": {},
   "outputs": [],
   "source": [
    "trace1 = go.Scatter(\n",
    "\n",
    "    x = tourism_data['Year'],\n",
    "    y = tourism_data['Eastern'],\n",
    "    name = 'Eastern Europe',\n",
    "    line = dict(color='red', width=4, dash='dot')\n",
    ")"
   ]
  },
  {
   "cell_type": "code",
   "execution_count": 20,
   "metadata": {},
   "outputs": [],
   "source": [
    "trace2 = go.Scatter(\n",
    "\n",
    "    x = tourism_data['Year'],\n",
    "    y = tourism_data['Southern'],\n",
    "    name = 'Southern Europe',\n",
    "    line = dict(color='green', width=4, dash='dash')\n",
    ")"
   ]
  },
  {
   "cell_type": "code",
   "execution_count": 23,
   "metadata": {},
   "outputs": [],
   "source": [
    "data = [trace0, trace1, trace2]\n",
    "\n",
    "layout = dict(title = \"International Tourist arrivals (in millions)\",\n",
    "              xaxis = dict(title=\"Year\"),\n",
    "              yaxis = dict(title=\"No. of Tourists\")\n",
    "             )"
   ]
  },
  {
   "cell_type": "code",
   "execution_count": 24,
   "metadata": {},
   "outputs": [
    {
     "data": {
      "application/vnd.plotly.v1+json": {
       "data": [
        {
         "line": {
          "color": "pink",
          "width": 4
         },
         "name": "Western Europe",
         "type": "scatter",
         "x": [
          1990,
          1995,
          2000,
          2005,
          2010,
          2015
         ],
         "y": [
          108.6,
          112.2,
          139.7,
          141.7,
          154.4,
          181.4
         ]
        },
        {
         "line": {
          "color": "red",
          "dash": "dot",
          "width": 4
         },
         "name": "Eastern Europe",
         "type": "scatter",
         "x": [
          1990,
          1995,
          2000,
          2005,
          2010,
          2015
         ],
         "y": [
          33.9,
          58.9,
          69.6,
          95.3,
          98.5,
          121.4
         ]
        },
        {
         "line": {
          "color": "green",
          "dash": "dash",
          "width": 4
         },
         "name": "Southern Europe",
         "type": "scatter",
         "x": [
          1990,
          1995,
          2000,
          2005,
          2010,
          2015
         ],
         "y": [
          90.3,
          96,
          132.6,
          156.4,
          173.3,
          225.5
         ]
        }
       ],
       "layout": {
        "title": "International Tourist arrivals (in millions)",
        "xaxis": {
         "title": "Year"
        },
        "yaxis": {
         "title": "No. of Tourists"
        }
       }
      },
      "text/html": [
       "<div id=\"902b5d5c-a85d-4a66-a2a6-34b570357cf2\" style=\"height: 525px; width: 100%;\" class=\"plotly-graph-div\"></div><script type=\"text/javascript\">require([\"plotly\"], function(Plotly) { window.PLOTLYENV=window.PLOTLYENV || {};window.PLOTLYENV.BASE_URL=\"https://plot.ly\";Plotly.newPlot(\"902b5d5c-a85d-4a66-a2a6-34b570357cf2\", [{\"y\": [108.6, 112.2, 139.7, 141.7, 154.4, 181.4], \"name\": \"Western Europe\", \"x\": [1990, 1995, 2000, 2005, 2010, 2015], \"type\": \"scatter\", \"line\": {\"color\": \"pink\", \"width\": 4}}, {\"y\": [33.9, 58.9, 69.6, 95.3, 98.5, 121.4], \"name\": \"Eastern Europe\", \"x\": [1990, 1995, 2000, 2005, 2010, 2015], \"type\": \"scatter\", \"line\": {\"dash\": \"dot\", \"color\": \"red\", \"width\": 4}}, {\"y\": [90.3, 96.0, 132.6, 156.4, 173.3, 225.5], \"name\": \"Southern Europe\", \"x\": [1990, 1995, 2000, 2005, 2010, 2015], \"type\": \"scatter\", \"line\": {\"dash\": \"dash\", \"color\": \"green\", \"width\": 4}}], {\"xaxis\": {\"title\": \"Year\"}, \"title\": \"International Tourist arrivals (in millions)\", \"yaxis\": {\"title\": \"No. of Tourists\"}}, {\"linkText\": \"Export to plot.ly\", \"showLink\": true})});</script>"
      ],
      "text/vnd.plotly.v1+html": [
       "<div id=\"902b5d5c-a85d-4a66-a2a6-34b570357cf2\" style=\"height: 525px; width: 100%;\" class=\"plotly-graph-div\"></div><script type=\"text/javascript\">require([\"plotly\"], function(Plotly) { window.PLOTLYENV=window.PLOTLYENV || {};window.PLOTLYENV.BASE_URL=\"https://plot.ly\";Plotly.newPlot(\"902b5d5c-a85d-4a66-a2a6-34b570357cf2\", [{\"y\": [108.6, 112.2, 139.7, 141.7, 154.4, 181.4], \"name\": \"Western Europe\", \"x\": [1990, 1995, 2000, 2005, 2010, 2015], \"type\": \"scatter\", \"line\": {\"color\": \"pink\", \"width\": 4}}, {\"y\": [33.9, 58.9, 69.6, 95.3, 98.5, 121.4], \"name\": \"Eastern Europe\", \"x\": [1990, 1995, 2000, 2005, 2010, 2015], \"type\": \"scatter\", \"line\": {\"dash\": \"dot\", \"color\": \"red\", \"width\": 4}}, {\"y\": [90.3, 96.0, 132.6, 156.4, 173.3, 225.5], \"name\": \"Southern Europe\", \"x\": [1990, 1995, 2000, 2005, 2010, 2015], \"type\": \"scatter\", \"line\": {\"dash\": \"dash\", \"color\": \"green\", \"width\": 4}}], {\"xaxis\": {\"title\": \"Year\"}, \"title\": \"International Tourist arrivals (in millions)\", \"yaxis\": {\"title\": \"No. of Tourists\"}}, {\"linkText\": \"Export to plot.ly\", \"showLink\": true})});</script>"
      ]
     },
     "metadata": {},
     "output_type": "display_data"
    }
   ],
   "source": [
    "fig = dict(data=data, layout=layout)\n",
    "\n",
    "offline.iplot(fig)"
   ]
  },
  {
   "cell_type": "code",
   "execution_count": 25,
   "metadata": {},
   "outputs": [
    {
     "data": {
      "text/html": [
       "<div>\n",
       "<style scoped>\n",
       "    .dataframe tbody tr th:only-of-type {\n",
       "        vertical-align: middle;\n",
       "    }\n",
       "\n",
       "    .dataframe tbody tr th {\n",
       "        vertical-align: top;\n",
       "    }\n",
       "\n",
       "    .dataframe thead th {\n",
       "        text-align: right;\n",
       "    }\n",
       "</style>\n",
       "<table border=\"1\" class=\"dataframe\">\n",
       "  <thead>\n",
       "    <tr style=\"text-align: right;\">\n",
       "      <th></th>\n",
       "      <th>Year</th>\n",
       "      <th>Western</th>\n",
       "      <th>Eastern</th>\n",
       "      <th>Southern</th>\n",
       "    </tr>\n",
       "  </thead>\n",
       "  <tbody>\n",
       "    <tr>\n",
       "      <th>0</th>\n",
       "      <td>1990</td>\n",
       "      <td>108.6</td>\n",
       "      <td>33.9</td>\n",
       "      <td>90.3</td>\n",
       "    </tr>\n",
       "    <tr>\n",
       "      <th>1</th>\n",
       "      <td>1995</td>\n",
       "      <td>112.2</td>\n",
       "      <td>58.9</td>\n",
       "      <td>96.0</td>\n",
       "    </tr>\n",
       "    <tr>\n",
       "      <th>2</th>\n",
       "      <td>2000</td>\n",
       "      <td>NaN</td>\n",
       "      <td>NaN</td>\n",
       "      <td>NaN</td>\n",
       "    </tr>\n",
       "    <tr>\n",
       "      <th>3</th>\n",
       "      <td>2005</td>\n",
       "      <td>141.7</td>\n",
       "      <td>95.3</td>\n",
       "      <td>156.4</td>\n",
       "    </tr>\n",
       "    <tr>\n",
       "      <th>4</th>\n",
       "      <td>2010</td>\n",
       "      <td>154.4</td>\n",
       "      <td>98.5</td>\n",
       "      <td>173.3</td>\n",
       "    </tr>\n",
       "    <tr>\n",
       "      <th>5</th>\n",
       "      <td>2015</td>\n",
       "      <td>181.4</td>\n",
       "      <td>121.4</td>\n",
       "      <td>225.5</td>\n",
       "    </tr>\n",
       "  </tbody>\n",
       "</table>\n",
       "</div>"
      ],
      "text/plain": [
       "   Year  Western  Eastern  Southern\n",
       "0  1990    108.6     33.9      90.3\n",
       "1  1995    112.2     58.9      96.0\n",
       "2  2000      NaN      NaN       NaN\n",
       "3  2005    141.7     95.3     156.4\n",
       "4  2010    154.4     98.5     173.3\n",
       "5  2015    181.4    121.4     225.5"
      ]
     },
     "execution_count": 25,
     "metadata": {},
     "output_type": "execute_result"
    }
   ],
   "source": [
    "# to check for null values \n",
    "\n",
    "tourism_data['Western'].iat[2] = None \n",
    "tourism_data['Eastern'].iat[2] = None \n",
    "tourism_data['Southern'].iat[2] = None \n",
    "\n",
    "tourism_data "
   ]
  },
  {
   "cell_type": "code",
   "execution_count": 26,
   "metadata": {},
   "outputs": [],
   "source": [
    "# connectgaps = True :- connect the gaps in western europe if present due to NaN values \n",
    "\n",
    "trace0 = go.Scatter(\n",
    "\n",
    "    x = tourism_data['Year'],\n",
    "    y = tourism_data['Western'],\n",
    "    name = 'Western Europe',\n",
    "    line = dict(color='pink', width=4),\n",
    "    connectgaps = True\n",
    ")"
   ]
  },
  {
   "cell_type": "code",
   "execution_count": 27,
   "metadata": {},
   "outputs": [],
   "source": [
    "trace1 = go.Scatter(\n",
    "\n",
    "    x = tourism_data['Year'],\n",
    "    y = tourism_data['Eastern'],\n",
    "    name = 'Eastern Europe',\n",
    "    line = dict(color='red', width=4, dash='dot'),\n",
    "    connectgaps = False \n",
    ")"
   ]
  },
  {
   "cell_type": "code",
   "execution_count": 28,
   "metadata": {},
   "outputs": [],
   "source": [
    "trace2 = go.Scatter(\n",
    "\n",
    "    x = tourism_data['Year'],\n",
    "    y = tourism_data['Southern'],\n",
    "    name = 'Southern Europe',\n",
    "    line = dict(color='green', width=4, dash='dash')\n",
    ")"
   ]
  },
  {
   "cell_type": "code",
   "execution_count": 29,
   "metadata": {},
   "outputs": [],
   "source": [
    "data = [trace0, trace1, trace2]\n",
    "\n",
    "layout = dict(title = \"International Tourist arrivals (in millions)\",\n",
    "              xaxis = dict(title=\"Year\"),\n",
    "              yaxis = dict(title=\"No. of Tourists\")\n",
    "             )"
   ]
  },
  {
   "cell_type": "code",
   "execution_count": 30,
   "metadata": {},
   "outputs": [
    {
     "data": {
      "application/vnd.plotly.v1+json": {
       "data": [
        {
         "connectgaps": true,
         "line": {
          "color": "pink",
          "width": 4
         },
         "name": "Western Europe",
         "type": "scatter",
         "x": [
          1990,
          1995,
          2000,
          2005,
          2010,
          2015
         ],
         "y": [
          108.6,
          112.2,
          null,
          141.7,
          154.4,
          181.4
         ]
        },
        {
         "connectgaps": false,
         "line": {
          "color": "red",
          "dash": "dot",
          "width": 4
         },
         "name": "Eastern Europe",
         "type": "scatter",
         "x": [
          1990,
          1995,
          2000,
          2005,
          2010,
          2015
         ],
         "y": [
          33.9,
          58.9,
          null,
          95.3,
          98.5,
          121.4
         ]
        },
        {
         "line": {
          "color": "green",
          "dash": "dash",
          "width": 4
         },
         "name": "Southern Europe",
         "type": "scatter",
         "x": [
          1990,
          1995,
          2000,
          2005,
          2010,
          2015
         ],
         "y": [
          90.3,
          96,
          null,
          156.4,
          173.3,
          225.5
         ]
        }
       ],
       "layout": {
        "title": "International Tourist arrivals (in millions)",
        "xaxis": {
         "title": "Year"
        },
        "yaxis": {
         "title": "No. of Tourists"
        }
       }
      },
      "text/html": [
       "<div id=\"7d1acb5f-56ac-4fc7-a5f4-7e0850c4b0de\" style=\"height: 525px; width: 100%;\" class=\"plotly-graph-div\"></div><script type=\"text/javascript\">require([\"plotly\"], function(Plotly) { window.PLOTLYENV=window.PLOTLYENV || {};window.PLOTLYENV.BASE_URL=\"https://plot.ly\";Plotly.newPlot(\"7d1acb5f-56ac-4fc7-a5f4-7e0850c4b0de\", [{\"name\": \"Western Europe\", \"y\": [108.6, 112.2, null, 141.7, 154.4, 181.4], \"line\": {\"color\": \"pink\", \"width\": 4}, \"type\": \"scatter\", \"x\": [1990, 1995, 2000, 2005, 2010, 2015], \"connectgaps\": true}, {\"name\": \"Eastern Europe\", \"y\": [33.9, 58.9, null, 95.3, 98.5, 121.4], \"line\": {\"dash\": \"dot\", \"color\": \"red\", \"width\": 4}, \"type\": \"scatter\", \"x\": [1990, 1995, 2000, 2005, 2010, 2015], \"connectgaps\": false}, {\"y\": [90.3, 96.0, null, 156.4, 173.3, 225.5], \"name\": \"Southern Europe\", \"x\": [1990, 1995, 2000, 2005, 2010, 2015], \"type\": \"scatter\", \"line\": {\"dash\": \"dash\", \"color\": \"green\", \"width\": 4}}], {\"xaxis\": {\"title\": \"Year\"}, \"title\": \"International Tourist arrivals (in millions)\", \"yaxis\": {\"title\": \"No. of Tourists\"}}, {\"linkText\": \"Export to plot.ly\", \"showLink\": true})});</script>"
      ],
      "text/vnd.plotly.v1+html": [
       "<div id=\"7d1acb5f-56ac-4fc7-a5f4-7e0850c4b0de\" style=\"height: 525px; width: 100%;\" class=\"plotly-graph-div\"></div><script type=\"text/javascript\">require([\"plotly\"], function(Plotly) { window.PLOTLYENV=window.PLOTLYENV || {};window.PLOTLYENV.BASE_URL=\"https://plot.ly\";Plotly.newPlot(\"7d1acb5f-56ac-4fc7-a5f4-7e0850c4b0de\", [{\"name\": \"Western Europe\", \"y\": [108.6, 112.2, null, 141.7, 154.4, 181.4], \"line\": {\"color\": \"pink\", \"width\": 4}, \"type\": \"scatter\", \"x\": [1990, 1995, 2000, 2005, 2010, 2015], \"connectgaps\": true}, {\"name\": \"Eastern Europe\", \"y\": [33.9, 58.9, null, 95.3, 98.5, 121.4], \"line\": {\"dash\": \"dot\", \"color\": \"red\", \"width\": 4}, \"type\": \"scatter\", \"x\": [1990, 1995, 2000, 2005, 2010, 2015], \"connectgaps\": false}, {\"y\": [90.3, 96.0, null, 156.4, 173.3, 225.5], \"name\": \"Southern Europe\", \"x\": [1990, 1995, 2000, 2005, 2010, 2015], \"type\": \"scatter\", \"line\": {\"dash\": \"dash\", \"color\": \"green\", \"width\": 4}}], {\"xaxis\": {\"title\": \"Year\"}, \"title\": \"International Tourist arrivals (in millions)\", \"yaxis\": {\"title\": \"No. of Tourists\"}}, {\"linkText\": \"Export to plot.ly\", \"showLink\": true})});</script>"
      ]
     },
     "metadata": {},
     "output_type": "display_data"
    }
   ],
   "source": [
    "fig = dict(data=data, layout=layout)\n",
    "\n",
    "offline.iplot(fig)"
   ]
  },
  {
   "cell_type": "markdown",
   "metadata": {},
   "source": [
    "In the above chart, we can observe that only Western Europe is connected even there are Nan values in 2000 and rest Eastern & Southern Europe have gaps shown "
   ]
  },
  {
   "cell_type": "code",
   "execution_count": 46,
   "metadata": {},
   "outputs": [],
   "source": [
    "# adding different kinds of annotations \n",
    "\n",
    "annotations = []"
   ]
  },
  {
   "cell_type": "code",
   "execution_count": 47,
   "metadata": {},
   "outputs": [],
   "source": [
    "annotations.append(dict(x = tourism_data['Year'][0],\n",
    "                        y = tourism_data['Western'][0],\n",
    "                       \n",
    "                        xanchor = 'right',\n",
    "                        yanchor = 'middle',\n",
    "                       \n",
    "                        text = str(tourism_data['Western'][0]) + 'M',\n",
    "                       \n",
    "                        font = dict(family = 'Arial',\n",
    "                                    size = 14,\n",
    "                                    color = 'grey'),\n",
    "                        \n",
    "                        showarrow = False))"
   ]
  },
  {
   "cell_type": "code",
   "execution_count": 48,
   "metadata": {},
   "outputs": [],
   "source": [
    "annotations.append(dict(x = tourism_data['Year'][5],\n",
    "                        y = tourism_data['Eastern'][5],\n",
    "                       \n",
    "                        xanchor = 'left',\n",
    "                        yanchor = 'bottom',\n",
    "                       \n",
    "                        text = str(tourism_data['Eastern'][5]) + 'M',\n",
    "                       \n",
    "                        font = dict(family = 'Arial',\n",
    "                                    size = 14,\n",
    "                                    color = 'grey'),\n",
    "                        \n",
    "                        showarrow = True,\n",
    "                        arrowcolor = 'grey'))"
   ]
  },
  {
   "cell_type": "code",
   "execution_count": 49,
   "metadata": {},
   "outputs": [],
   "source": [
    "annotations.append(dict(yref = 'paper',\n",
    "                       \n",
    "                        x = 2000,\n",
    "                        y = 0.8,\n",
    "                       \n",
    "                        text = 'Data missing for Year 2000',\n",
    "                       \n",
    "                        font = dict(family = 'Times New Roman',\n",
    "                                    size = 16,\n",
    "                                    color = 'white'),\n",
    "                        \n",
    "                        bgcolor = 'purple',\n",
    "                        \n",
    "                        showarrow = False\n",
    "                        ))"
   ]
  },
  {
   "cell_type": "code",
   "execution_count": 50,
   "metadata": {},
   "outputs": [],
   "source": [
    "layout['annotations'] = annotations \n"
   ]
  },
  {
   "cell_type": "code",
   "execution_count": 51,
   "metadata": {},
   "outputs": [
    {
     "data": {
      "application/vnd.plotly.v1+json": {
       "data": [
        {
         "connectgaps": true,
         "line": {
          "color": "pink",
          "width": 4
         },
         "name": "Western Europe",
         "type": "scatter",
         "x": [
          1990,
          1995,
          2000,
          2005,
          2010,
          2015
         ],
         "y": [
          108.6,
          112.2,
          null,
          141.7,
          154.4,
          181.4
         ]
        },
        {
         "connectgaps": false,
         "line": {
          "color": "red",
          "dash": "dot",
          "width": 4
         },
         "name": "Eastern Europe",
         "type": "scatter",
         "x": [
          1990,
          1995,
          2000,
          2005,
          2010,
          2015
         ],
         "y": [
          33.9,
          58.9,
          null,
          95.3,
          98.5,
          121.4
         ]
        },
        {
         "line": {
          "color": "green",
          "dash": "dash",
          "width": 4
         },
         "name": "Southern Europe",
         "type": "scatter",
         "x": [
          1990,
          1995,
          2000,
          2005,
          2010,
          2015
         ],
         "y": [
          90.3,
          96,
          null,
          156.4,
          173.3,
          225.5
         ]
        }
       ],
       "layout": {
        "annotations": [
         {
          "font": {
           "color": "grey",
           "family": "Arial",
           "size": 14
          },
          "showarrow": false,
          "text": "108.6M",
          "x": 1990,
          "xanchor": "right",
          "y": 108.6,
          "yanchor": "middle"
         },
         {
          "arrowcolor": "grey",
          "font": {
           "color": "grey",
           "family": "Arial",
           "size": 14
          },
          "showarrow": true,
          "text": "121.4M",
          "x": 2015,
          "xanchor": "left",
          "y": 121.4,
          "yanchor": "bottom"
         },
         {
          "bgcolor": "purple",
          "font": {
           "color": "white",
           "family": "Times New Roman",
           "size": 16
          },
          "showarrow": false,
          "text": "Data missing for Year 2000",
          "x": 2000,
          "y": 0.8,
          "yref": "paper"
         }
        ],
        "title": "International Tourist arrivals (in millions)",
        "xaxis": {
         "title": "Year"
        },
        "yaxis": {
         "title": "No. of Tourists"
        }
       }
      },
      "text/html": [
       "<div id=\"19e28dfb-e509-42f5-9762-f3e79a71e88a\" style=\"height: 525px; width: 100%;\" class=\"plotly-graph-div\"></div><script type=\"text/javascript\">require([\"plotly\"], function(Plotly) { window.PLOTLYENV=window.PLOTLYENV || {};window.PLOTLYENV.BASE_URL=\"https://plot.ly\";Plotly.newPlot(\"19e28dfb-e509-42f5-9762-f3e79a71e88a\", [{\"name\": \"Western Europe\", \"y\": [108.6, 112.2, null, 141.7, 154.4, 181.4], \"line\": {\"color\": \"pink\", \"width\": 4}, \"type\": \"scatter\", \"x\": [1990, 1995, 2000, 2005, 2010, 2015], \"connectgaps\": true}, {\"name\": \"Eastern Europe\", \"y\": [33.9, 58.9, null, 95.3, 98.5, 121.4], \"line\": {\"dash\": \"dot\", \"color\": \"red\", \"width\": 4}, \"type\": \"scatter\", \"x\": [1990, 1995, 2000, 2005, 2010, 2015], \"connectgaps\": false}, {\"y\": [90.3, 96.0, null, 156.4, 173.3, 225.5], \"name\": \"Southern Europe\", \"x\": [1990, 1995, 2000, 2005, 2010, 2015], \"type\": \"scatter\", \"line\": {\"dash\": \"dash\", \"color\": \"green\", \"width\": 4}}], {\"xaxis\": {\"title\": \"Year\"}, \"title\": \"International Tourist arrivals (in millions)\", \"yaxis\": {\"title\": \"No. of Tourists\"}, \"annotations\": [{\"text\": \"108.6M\", \"xanchor\": \"right\", \"showarrow\": false, \"font\": {\"family\": \"Arial\", \"color\": \"grey\", \"size\": 14}, \"yanchor\": \"middle\", \"y\": 108.6, \"x\": 1990}, {\"x\": 2015, \"arrowcolor\": \"grey\", \"text\": \"121.4M\", \"xanchor\": \"left\", \"showarrow\": true, \"yanchor\": \"bottom\", \"y\": 121.4, \"font\": {\"family\": \"Arial\", \"color\": \"grey\", \"size\": 14}}, {\"bgcolor\": \"purple\", \"text\": \"Data missing for Year 2000\", \"yref\": \"paper\", \"showarrow\": false, \"font\": {\"family\": \"Times New Roman\", \"color\": \"white\", \"size\": 16}, \"y\": 0.8, \"x\": 2000}]}, {\"linkText\": \"Export to plot.ly\", \"showLink\": true})});</script>"
      ],
      "text/vnd.plotly.v1+html": [
       "<div id=\"19e28dfb-e509-42f5-9762-f3e79a71e88a\" style=\"height: 525px; width: 100%;\" class=\"plotly-graph-div\"></div><script type=\"text/javascript\">require([\"plotly\"], function(Plotly) { window.PLOTLYENV=window.PLOTLYENV || {};window.PLOTLYENV.BASE_URL=\"https://plot.ly\";Plotly.newPlot(\"19e28dfb-e509-42f5-9762-f3e79a71e88a\", [{\"name\": \"Western Europe\", \"y\": [108.6, 112.2, null, 141.7, 154.4, 181.4], \"line\": {\"color\": \"pink\", \"width\": 4}, \"type\": \"scatter\", \"x\": [1990, 1995, 2000, 2005, 2010, 2015], \"connectgaps\": true}, {\"name\": \"Eastern Europe\", \"y\": [33.9, 58.9, null, 95.3, 98.5, 121.4], \"line\": {\"dash\": \"dot\", \"color\": \"red\", \"width\": 4}, \"type\": \"scatter\", \"x\": [1990, 1995, 2000, 2005, 2010, 2015], \"connectgaps\": false}, {\"y\": [90.3, 96.0, null, 156.4, 173.3, 225.5], \"name\": \"Southern Europe\", \"x\": [1990, 1995, 2000, 2005, 2010, 2015], \"type\": \"scatter\", \"line\": {\"dash\": \"dash\", \"color\": \"green\", \"width\": 4}}], {\"xaxis\": {\"title\": \"Year\"}, \"title\": \"International Tourist arrivals (in millions)\", \"yaxis\": {\"title\": \"No. of Tourists\"}, \"annotations\": [{\"text\": \"108.6M\", \"xanchor\": \"right\", \"showarrow\": false, \"font\": {\"family\": \"Arial\", \"color\": \"grey\", \"size\": 14}, \"yanchor\": \"middle\", \"y\": 108.6, \"x\": 1990}, {\"x\": 2015, \"arrowcolor\": \"grey\", \"text\": \"121.4M\", \"xanchor\": \"left\", \"showarrow\": true, \"yanchor\": \"bottom\", \"y\": 121.4, \"font\": {\"family\": \"Arial\", \"color\": \"grey\", \"size\": 14}}, {\"bgcolor\": \"purple\", \"text\": \"Data missing for Year 2000\", \"yref\": \"paper\", \"showarrow\": false, \"font\": {\"family\": \"Times New Roman\", \"color\": \"white\", \"size\": 16}, \"y\": 0.8, \"x\": 2000}]}, {\"linkText\": \"Export to plot.ly\", \"showLink\": true})});</script>"
      ]
     },
     "metadata": {},
     "output_type": "display_data"
    }
   ],
   "source": [
    "fig = dict(data=data, layout=layout)\n",
    "\n",
    "offline.iplot(fig)"
   ]
  },
  {
   "cell_type": "code",
   "execution_count": null,
   "metadata": {},
   "outputs": [],
   "source": []
  }
 ],
 "metadata": {
  "kernelspec": {
   "display_name": "Python 3",
   "language": "python",
   "name": "python3"
  },
  "language_info": {
   "codemirror_mode": {
    "name": "ipython",
    "version": 3
   },
   "file_extension": ".py",
   "mimetype": "text/x-python",
   "name": "python",
   "nbconvert_exporter": "python",
   "pygments_lexer": "ipython3",
   "version": "3.5.2"
  }
 },
 "nbformat": 4,
 "nbformat_minor": 2
}
