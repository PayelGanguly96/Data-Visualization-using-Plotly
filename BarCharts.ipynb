{
 "cells": [
  {
   "cell_type": "code",
   "execution_count": 1,
   "metadata": {},
   "outputs": [
    {
     "data": {
      "text/html": [
       "<script>requirejs.config({paths: { 'plotly': ['https://cdn.plot.ly/plotly-latest.min']},});if(!window.Plotly) {{require(['plotly'],function(plotly) {window.Plotly=plotly;});}}</script>"
      ],
      "text/vnd.plotly.v1+html": [
       "<script>requirejs.config({paths: { 'plotly': ['https://cdn.plot.ly/plotly-latest.min']},});if(!window.Plotly) {{require(['plotly'],function(plotly) {window.Plotly=plotly;});}}</script>"
      ]
     },
     "metadata": {},
     "output_type": "display_data"
    }
   ],
   "source": [
    "import plotly.graph_objs as go\n",
    "import plotly.offline as offline \n",
    "\n",
    "offline.init_notebook_mode(connected=True)"
   ]
  },
  {
   "cell_type": "code",
   "execution_count": 2,
   "metadata": {},
   "outputs": [],
   "source": [
    "desserts = ['Cake', 'Chocolate', 'Muffins']\n",
    "available = [50,30,25]"
   ]
  },
  {
   "cell_type": "code",
   "execution_count": 3,
   "metadata": {},
   "outputs": [],
   "source": [
    "trace = go.Bar(x=desserts,\n",
    "               y=available)\n"
   ]
  },
  {
   "cell_type": "code",
   "execution_count": 4,
   "metadata": {},
   "outputs": [
    {
     "data": {
      "application/vnd.plotly.v1+json": {
       "data": [
        {
         "type": "bar",
         "x": [
          "Cake",
          "Chocolate",
          "Muffins"
         ],
         "y": [
          50,
          30,
          25
         ]
        }
       ],
       "layout": {}
      },
      "text/html": [
       "<div id=\"47c0bb27-8acd-4394-85e5-e46efa08035b\" style=\"height: 525px; width: 100%;\" class=\"plotly-graph-div\"></div><script type=\"text/javascript\">require([\"plotly\"], function(Plotly) { window.PLOTLYENV=window.PLOTLYENV || {};window.PLOTLYENV.BASE_URL=\"https://plot.ly\";Plotly.newPlot(\"47c0bb27-8acd-4394-85e5-e46efa08035b\", [{\"y\": [50, 30, 25], \"x\": [\"Cake\", \"Chocolate\", \"Muffins\"], \"type\": \"bar\"}], {}, {\"linkText\": \"Export to plot.ly\", \"showLink\": true})});</script>"
      ],
      "text/vnd.plotly.v1+html": [
       "<div id=\"47c0bb27-8acd-4394-85e5-e46efa08035b\" style=\"height: 525px; width: 100%;\" class=\"plotly-graph-div\"></div><script type=\"text/javascript\">require([\"plotly\"], function(Plotly) { window.PLOTLYENV=window.PLOTLYENV || {};window.PLOTLYENV.BASE_URL=\"https://plot.ly\";Plotly.newPlot(\"47c0bb27-8acd-4394-85e5-e46efa08035b\", [{\"y\": [50, 30, 25], \"x\": [\"Cake\", \"Chocolate\", \"Muffins\"], \"type\": \"bar\"}], {}, {\"linkText\": \"Export to plot.ly\", \"showLink\": true})});</script>"
      ]
     },
     "metadata": {},
     "output_type": "display_data"
    }
   ],
   "source": [
    "data = [trace]\n",
    "\n",
    "offline.iplot(data)"
   ]
  },
  {
   "cell_type": "code",
   "execution_count": 6,
   "metadata": {},
   "outputs": [],
   "source": [
    "trace1 = go.Bar(x=desserts,\n",
    "                y=[50,30,25],\n",
    "                name = 'Order#1')\n"
   ]
  },
  {
   "cell_type": "code",
   "execution_count": 7,
   "metadata": {},
   "outputs": [],
   "source": [
    "trace2 = go.Bar(x=desserts,\n",
    "                y=[40,20,10],\n",
    "                name = 'Order#2')\n"
   ]
  },
  {
   "cell_type": "code",
   "execution_count": 8,
   "metadata": {},
   "outputs": [
    {
     "data": {
      "application/vnd.plotly.v1+json": {
       "data": [
        {
         "name": "Order#1",
         "type": "bar",
         "x": [
          "Cake",
          "Chocolate",
          "Muffins"
         ],
         "y": [
          50,
          30,
          25
         ]
        },
        {
         "name": "Order#2",
         "type": "bar",
         "x": [
          "Cake",
          "Chocolate",
          "Muffins"
         ],
         "y": [
          40,
          20,
          10
         ]
        }
       ],
       "layout": {}
      },
      "text/html": [
       "<div id=\"e43adb4a-9813-49b4-9f33-a9437df7abb2\" style=\"height: 525px; width: 100%;\" class=\"plotly-graph-div\"></div><script type=\"text/javascript\">require([\"plotly\"], function(Plotly) { window.PLOTLYENV=window.PLOTLYENV || {};window.PLOTLYENV.BASE_URL=\"https://plot.ly\";Plotly.newPlot(\"e43adb4a-9813-49b4-9f33-a9437df7abb2\", [{\"y\": [50, 30, 25], \"x\": [\"Cake\", \"Chocolate\", \"Muffins\"], \"name\": \"Order#1\", \"type\": \"bar\"}, {\"y\": [40, 20, 10], \"x\": [\"Cake\", \"Chocolate\", \"Muffins\"], \"name\": \"Order#2\", \"type\": \"bar\"}], {}, {\"linkText\": \"Export to plot.ly\", \"showLink\": true})});</script>"
      ],
      "text/vnd.plotly.v1+html": [
       "<div id=\"e43adb4a-9813-49b4-9f33-a9437df7abb2\" style=\"height: 525px; width: 100%;\" class=\"plotly-graph-div\"></div><script type=\"text/javascript\">require([\"plotly\"], function(Plotly) { window.PLOTLYENV=window.PLOTLYENV || {};window.PLOTLYENV.BASE_URL=\"https://plot.ly\";Plotly.newPlot(\"e43adb4a-9813-49b4-9f33-a9437df7abb2\", [{\"y\": [50, 30, 25], \"x\": [\"Cake\", \"Chocolate\", \"Muffins\"], \"name\": \"Order#1\", \"type\": \"bar\"}, {\"y\": [40, 20, 10], \"x\": [\"Cake\", \"Chocolate\", \"Muffins\"], \"name\": \"Order#2\", \"type\": \"bar\"}], {}, {\"linkText\": \"Export to plot.ly\", \"showLink\": true})});</script>"
      ]
     },
     "metadata": {},
     "output_type": "display_data"
    }
   ],
   "source": [
    "data = [trace1, trace2]\n",
    "\n",
    "offline.iplot(data)"
   ]
  },
  {
   "cell_type": "markdown",
   "metadata": {},
   "source": [
    "In the above graph, the legend is created automatically."
   ]
  },
  {
   "cell_type": "code",
   "execution_count": 9,
   "metadata": {},
   "outputs": [],
   "source": [
    "layout = go.Layout(barmode = 'group') #by default barmode "
   ]
  },
  {
   "cell_type": "code",
   "execution_count": 10,
   "metadata": {},
   "outputs": [
    {
     "data": {
      "application/vnd.plotly.v1+json": {
       "data": [
        {
         "name": "Order#1",
         "type": "bar",
         "x": [
          "Cake",
          "Chocolate",
          "Muffins"
         ],
         "y": [
          50,
          30,
          25
         ]
        },
        {
         "name": "Order#2",
         "type": "bar",
         "x": [
          "Cake",
          "Chocolate",
          "Muffins"
         ],
         "y": [
          40,
          20,
          10
         ]
        }
       ],
       "layout": {
        "barmode": "group"
       }
      },
      "text/html": [
       "<div id=\"a5a89275-cfcf-46e1-9320-16e171a038e3\" style=\"height: 525px; width: 100%;\" class=\"plotly-graph-div\"></div><script type=\"text/javascript\">require([\"plotly\"], function(Plotly) { window.PLOTLYENV=window.PLOTLYENV || {};window.PLOTLYENV.BASE_URL=\"https://plot.ly\";Plotly.newPlot(\"a5a89275-cfcf-46e1-9320-16e171a038e3\", [{\"y\": [50, 30, 25], \"x\": [\"Cake\", \"Chocolate\", \"Muffins\"], \"name\": \"Order#1\", \"type\": \"bar\"}, {\"y\": [40, 20, 10], \"x\": [\"Cake\", \"Chocolate\", \"Muffins\"], \"name\": \"Order#2\", \"type\": \"bar\"}], {\"barmode\": \"group\"}, {\"linkText\": \"Export to plot.ly\", \"showLink\": true})});</script>"
      ],
      "text/vnd.plotly.v1+html": [
       "<div id=\"a5a89275-cfcf-46e1-9320-16e171a038e3\" style=\"height: 525px; width: 100%;\" class=\"plotly-graph-div\"></div><script type=\"text/javascript\">require([\"plotly\"], function(Plotly) { window.PLOTLYENV=window.PLOTLYENV || {};window.PLOTLYENV.BASE_URL=\"https://plot.ly\";Plotly.newPlot(\"a5a89275-cfcf-46e1-9320-16e171a038e3\", [{\"y\": [50, 30, 25], \"x\": [\"Cake\", \"Chocolate\", \"Muffins\"], \"name\": \"Order#1\", \"type\": \"bar\"}, {\"y\": [40, 20, 10], \"x\": [\"Cake\", \"Chocolate\", \"Muffins\"], \"name\": \"Order#2\", \"type\": \"bar\"}], {\"barmode\": \"group\"}, {\"linkText\": \"Export to plot.ly\", \"showLink\": true})});</script>"
      ]
     },
     "metadata": {},
     "output_type": "display_data"
    }
   ],
   "source": [
    "fig = dict(data = data, \n",
    "           layout = layout)\n",
    "\n",
    "offline.iplot(fig)"
   ]
  },
  {
   "cell_type": "code",
   "execution_count": 11,
   "metadata": {},
   "outputs": [
    {
     "data": {
      "application/vnd.plotly.v1+json": {
       "data": [
        {
         "name": "Order#1",
         "type": "bar",
         "x": [
          "Cake",
          "Chocolate",
          "Muffins"
         ],
         "y": [
          50,
          30,
          25
         ]
        },
        {
         "name": "Order#2",
         "type": "bar",
         "x": [
          "Cake",
          "Chocolate",
          "Muffins"
         ],
         "y": [
          40,
          20,
          10
         ]
        }
       ],
       "layout": {
        "barmode": "stack"
       }
      },
      "text/html": [
       "<div id=\"5255225d-4ef6-40f4-bf7a-3ef0af85e2ac\" style=\"height: 525px; width: 100%;\" class=\"plotly-graph-div\"></div><script type=\"text/javascript\">require([\"plotly\"], function(Plotly) { window.PLOTLYENV=window.PLOTLYENV || {};window.PLOTLYENV.BASE_URL=\"https://plot.ly\";Plotly.newPlot(\"5255225d-4ef6-40f4-bf7a-3ef0af85e2ac\", [{\"y\": [50, 30, 25], \"x\": [\"Cake\", \"Chocolate\", \"Muffins\"], \"name\": \"Order#1\", \"type\": \"bar\"}, {\"y\": [40, 20, 10], \"x\": [\"Cake\", \"Chocolate\", \"Muffins\"], \"name\": \"Order#2\", \"type\": \"bar\"}], {\"barmode\": \"stack\"}, {\"linkText\": \"Export to plot.ly\", \"showLink\": true})});</script>"
      ],
      "text/vnd.plotly.v1+html": [
       "<div id=\"5255225d-4ef6-40f4-bf7a-3ef0af85e2ac\" style=\"height: 525px; width: 100%;\" class=\"plotly-graph-div\"></div><script type=\"text/javascript\">require([\"plotly\"], function(Plotly) { window.PLOTLYENV=window.PLOTLYENV || {};window.PLOTLYENV.BASE_URL=\"https://plot.ly\";Plotly.newPlot(\"5255225d-4ef6-40f4-bf7a-3ef0af85e2ac\", [{\"y\": [50, 30, 25], \"x\": [\"Cake\", \"Chocolate\", \"Muffins\"], \"name\": \"Order#1\", \"type\": \"bar\"}, {\"y\": [40, 20, 10], \"x\": [\"Cake\", \"Chocolate\", \"Muffins\"], \"name\": \"Order#2\", \"type\": \"bar\"}], {\"barmode\": \"stack\"}, {\"linkText\": \"Export to plot.ly\", \"showLink\": true})});</script>"
      ]
     },
     "metadata": {},
     "output_type": "display_data"
    }
   ],
   "source": [
    "layout = go.Layout(barmode = 'stack')\n",
    "\n",
    "fig = dict(data = data, \n",
    "           layout = layout)\n",
    "\n",
    "offline.iplot(fig)"
   ]
  },
  {
   "cell_type": "code",
   "execution_count": 16,
   "metadata": {},
   "outputs": [],
   "source": [
    "trace = go.Bar(x=desserts,\n",
    "               y=available,\n",
    "               \n",
    "               width = [0.5,1, 0.7],\n",
    "              \n",
    "               marker = dict(color = ['yellow','green', 'pink']),\n",
    "              \n",
    "               text = available,\n",
    "               textposition = 'inside')"
   ]
  },
  {
   "cell_type": "code",
   "execution_count": 17,
   "metadata": {},
   "outputs": [
    {
     "data": {
      "application/vnd.plotly.v1+json": {
       "data": [
        {
         "marker": {
          "color": [
           "yellow",
           "green",
           "pink"
          ]
         },
         "text": [
          50,
          30,
          25
         ],
         "textposition": "inside",
         "type": "bar",
         "width": [
          0.5,
          1,
          0.7
         ],
         "x": [
          "Cake",
          "Chocolate",
          "Muffins"
         ],
         "y": [
          50,
          30,
          25
         ]
        }
       ],
       "layout": {}
      },
      "text/html": [
       "<div id=\"9fceaa74-fb36-4657-9312-003f5a432e3e\" style=\"height: 525px; width: 100%;\" class=\"plotly-graph-div\"></div><script type=\"text/javascript\">require([\"plotly\"], function(Plotly) { window.PLOTLYENV=window.PLOTLYENV || {};window.PLOTLYENV.BASE_URL=\"https://plot.ly\";Plotly.newPlot(\"9fceaa74-fb36-4657-9312-003f5a432e3e\", [{\"y\": [50, 30, 25], \"marker\": {\"color\": [\"yellow\", \"green\", \"pink\"]}, \"text\": [50, 30, 25], \"textposition\": \"inside\", \"x\": [\"Cake\", \"Chocolate\", \"Muffins\"], \"width\": [0.5, 1, 0.7], \"type\": \"bar\"}], {}, {\"linkText\": \"Export to plot.ly\", \"showLink\": true})});</script>"
      ],
      "text/vnd.plotly.v1+html": [
       "<div id=\"9fceaa74-fb36-4657-9312-003f5a432e3e\" style=\"height: 525px; width: 100%;\" class=\"plotly-graph-div\"></div><script type=\"text/javascript\">require([\"plotly\"], function(Plotly) { window.PLOTLYENV=window.PLOTLYENV || {};window.PLOTLYENV.BASE_URL=\"https://plot.ly\";Plotly.newPlot(\"9fceaa74-fb36-4657-9312-003f5a432e3e\", [{\"y\": [50, 30, 25], \"marker\": {\"color\": [\"yellow\", \"green\", \"pink\"]}, \"text\": [50, 30, 25], \"textposition\": \"inside\", \"x\": [\"Cake\", \"Chocolate\", \"Muffins\"], \"width\": [0.5, 1, 0.7], \"type\": \"bar\"}], {}, {\"linkText\": \"Export to plot.ly\", \"showLink\": true})});</script>"
      ]
     },
     "metadata": {},
     "output_type": "display_data"
    }
   ],
   "source": [
    "data = [trace]\n",
    "\n",
    "offline.iplot(data)"
   ]
  },
  {
   "cell_type": "code",
   "execution_count": 18,
   "metadata": {},
   "outputs": [],
   "source": [
    "layout = go.Layout(title = 'Dessert order',\n",
    "                   \n",
    "                   titlefont = dict(family='Arial', size=14),\n",
    "                   \n",
    "                   xaxis = dict(tickangle = 30)) # labels on x-axis is 30 degrees to the hoizontal "
   ]
  },
  {
   "cell_type": "code",
   "execution_count": 20,
   "metadata": {},
   "outputs": [
    {
     "data": {
      "application/vnd.plotly.v1+json": {
       "data": [
        {
         "marker": {
          "color": [
           "yellow",
           "green",
           "pink"
          ]
         },
         "text": [
          50,
          30,
          25
         ],
         "textposition": "inside",
         "type": "bar",
         "width": [
          0.5,
          1,
          0.7
         ],
         "x": [
          "Cake",
          "Chocolate",
          "Muffins"
         ],
         "y": [
          50,
          30,
          25
         ]
        }
       ],
       "layout": {
        "title": "Dessert order",
        "titlefont": {
         "family": "Arial",
         "size": 14
        },
        "xaxis": {
         "tickangle": 30
        }
       }
      },
      "text/html": [
       "<div id=\"5204604c-0017-4936-b1a1-922c3311ca6c\" style=\"height: 525px; width: 100%;\" class=\"plotly-graph-div\"></div><script type=\"text/javascript\">require([\"plotly\"], function(Plotly) { window.PLOTLYENV=window.PLOTLYENV || {};window.PLOTLYENV.BASE_URL=\"https://plot.ly\";Plotly.newPlot(\"5204604c-0017-4936-b1a1-922c3311ca6c\", [{\"y\": [50, 30, 25], \"marker\": {\"color\": [\"yellow\", \"green\", \"pink\"]}, \"text\": [50, 30, 25], \"textposition\": \"inside\", \"x\": [\"Cake\", \"Chocolate\", \"Muffins\"], \"width\": [0.5, 1, 0.7], \"type\": \"bar\"}], {\"title\": \"Dessert order\", \"xaxis\": {\"tickangle\": 30}, \"titlefont\": {\"size\": 14, \"family\": \"Arial\"}}, {\"linkText\": \"Export to plot.ly\", \"showLink\": true})});</script>"
      ],
      "text/vnd.plotly.v1+html": [
       "<div id=\"5204604c-0017-4936-b1a1-922c3311ca6c\" style=\"height: 525px; width: 100%;\" class=\"plotly-graph-div\"></div><script type=\"text/javascript\">require([\"plotly\"], function(Plotly) { window.PLOTLYENV=window.PLOTLYENV || {};window.PLOTLYENV.BASE_URL=\"https://plot.ly\";Plotly.newPlot(\"5204604c-0017-4936-b1a1-922c3311ca6c\", [{\"y\": [50, 30, 25], \"marker\": {\"color\": [\"yellow\", \"green\", \"pink\"]}, \"text\": [50, 30, 25], \"textposition\": \"inside\", \"x\": [\"Cake\", \"Chocolate\", \"Muffins\"], \"width\": [0.5, 1, 0.7], \"type\": \"bar\"}], {\"title\": \"Dessert order\", \"xaxis\": {\"tickangle\": 30}, \"titlefont\": {\"size\": 14, \"family\": \"Arial\"}}, {\"linkText\": \"Export to plot.ly\", \"showLink\": true})});</script>"
      ]
     },
     "metadata": {},
     "output_type": "display_data"
    }
   ],
   "source": [
    "fig = dict(data=data,\n",
    "       layout = layout)\n",
    "\n",
    "offline.iplot(fig)"
   ]
  },
  {
   "cell_type": "code",
   "execution_count": null,
   "metadata": {},
   "outputs": [],
   "source": []
  }
 ],
 "metadata": {
  "kernelspec": {
   "display_name": "Python 3",
   "language": "python",
   "name": "python3"
  },
  "language_info": {
   "codemirror_mode": {
    "name": "ipython",
    "version": 3
   },
   "file_extension": ".py",
   "mimetype": "text/x-python",
   "name": "python",
   "nbconvert_exporter": "python",
   "pygments_lexer": "ipython3",
   "version": "3.5.2"
  }
 },
 "nbformat": 4,
 "nbformat_minor": 2
}
